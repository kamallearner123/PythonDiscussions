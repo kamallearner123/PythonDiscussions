{
  "nbformat": 4,
  "nbformat_minor": 0,
  "metadata": {
    "colab": {
      "name": "KamalSatish_Jan22_2022.ipynb",
      "provenance": [],
      "collapsed_sections": [],
      "authorship_tag": "ABX9TyPNH7uVZ+z6XNMyCBb9rwSR",
      "include_colab_link": true
    },
    "kernelspec": {
      "name": "python3",
      "display_name": "Python 3"
    },
    "language_info": {
      "name": "python"
    }
  },
  "cells": [
    {
      "cell_type": "markdown",
      "metadata": {
        "id": "view-in-github",
        "colab_type": "text"
      },
      "source": [
        "<a href=\"https://colab.research.google.com/github/kamallearner123/python-in-a-notebook/blob/master/KamalSatish_Jan22_2022.ipynb\" target=\"_parent\"><img src=\"https://colab.research.google.com/assets/colab-badge.svg\" alt=\"Open In Colab\"/></a>"
      ]
    },
    {
      "cell_type": "code",
      "execution_count": null,
      "metadata": {
        "colab": {
          "base_uri": "https://localhost:8080/",
          "height": 86
        },
        "id": "0vuZLHWgipJZ",
        "outputId": "338778cd-f79c-4b80-d91f-f4b8887b1431"
      },
      "outputs": [
        {
          "output_type": "execute_result",
          "data": {
            "application/vnd.google.colaboratory.intrinsic+json": {
              "type": "string"
            },
            "text/plain": [
              "'\\nPurpose:\\n1) Get the input from:\\n  -> STDIO\\n  -> Ethernet\\n  -> Excel sheets, doc, image, pdf.....\\n  -> .txt\\n  -> DB\\n  -> Sensors (Embedded)\\n  -> etc....\\n\\n2) Process the data:\\n  -> Functionality (maths, formatting, filtering.....)\\n  -> Libraries (inbuild)\\n\\n3) Output:\\n  -> STDOUT\\n  -> Ethernet,txt, excel, image...\\n\\nC, C++, Python, Java, stc.....\\n\\n\\nApplication: \\n0-10\\nPerformance   : 10 (5)\\nProductivity  : 5  (10)\\nProcess       : 5  (5)\\nEnvironment   : 10 (5)\\nCompetency    : 10 (2-3)\\n\\nData science, Machine learning (which is not real-time)\\n'"
            ]
          },
          "metadata": {},
          "execution_count": 1
        }
      ],
      "source": [
        "\n",
        "'''\n",
        "Purpose:\n",
        "1) Get the input from:\n",
        "  -> STDIO\n",
        "  -> Ethernet\n",
        "  -> Excel sheets, doc, image, pdf.....\n",
        "  -> .txt\n",
        "  -> DB\n",
        "  -> Sensors (Embedded)\n",
        "  -> etc....\n",
        "\n",
        "-----Data structures (how you keep read data)\n",
        "List, dictionaries, sets, string,...\n",
        "\n",
        "2) Process the data:\n",
        "  -> Functionality (maths, formatting, filtering.....)\n",
        "  -> Libraries (inbuild)\n",
        "\n",
        "3) Output:\n",
        "  -> STDOUT\n",
        "  -> Ethernet,txt, excel, image...\n",
        "\n",
        "C, C++, Python, Java, stc.....\n",
        "\n",
        "\n",
        "Application: \n",
        "0-10\n",
        "Performance   : 10 (5)\n",
        "Productivity  : 5  (10)\n",
        "Process       : 5  (5)\n",
        "Environment   : 10 (5)\n",
        "Competency    : 10 (2-3)\n",
        "\n",
        "Data science, Machine learning (which is not real-time)\n",
        "'''\n",
        "\n",
        "\n",
        "'''\n",
        "1) Rich  data types (lists, tuples, strings, sets, dictionaries) and simple to use\n",
        "2) OOPs (classes, objects) : By default every thing is an object\n",
        "3) Interpreter (not compilation program)\n",
        "python, shell, java scripting, ruby, perl, tcl, ...\n",
        "\n",
        "\n",
        "\n",
        "'''\n"
      ]
    },
    {
      "cell_type": "code",
      "source": [
        "print(\"Hello world\")\n"
      ],
      "metadata": {
        "colab": {
          "base_uri": "https://localhost:8080/"
        },
        "id": "opyQlnexlQ2n",
        "outputId": "23a2b237-777b-458d-d70c-c09ccd5ef55c"
      },
      "execution_count": null,
      "outputs": [
        {
          "output_type": "stream",
          "name": "stdout",
          "text": [
            "Hello world\n"
          ]
        }
      ]
    },
    {
      "cell_type": "code",
      "source": [
        "a = 10 #a is integer\n",
        "print(type(a))\n",
        "print(dir(a))  #List member functions and attributes\n"
      ],
      "metadata": {
        "colab": {
          "base_uri": "https://localhost:8080/"
        },
        "id": "58FCWn6QlRvP",
        "outputId": "a27a813b-3ffa-4aed-90c0-c26eb918bff9"
      },
      "execution_count": null,
      "outputs": [
        {
          "output_type": "stream",
          "name": "stdout",
          "text": [
            "<class 'int'>\n",
            "['__abs__', '__add__', '__and__', '__bool__', '__ceil__', '__class__', '__delattr__', '__dir__', '__divmod__', '__doc__', '__eq__', '__float__', '__floor__', '__floordiv__', '__format__', '__ge__', '__getattribute__', '__getnewargs__', '__gt__', '__hash__', '__index__', '__init__', '__init_subclass__', '__int__', '__invert__', '__le__', '__lshift__', '__lt__', '__mod__', '__mul__', '__ne__', '__neg__', '__new__', '__or__', '__pos__', '__pow__', '__radd__', '__rand__', '__rdivmod__', '__reduce__', '__reduce_ex__', '__repr__', '__rfloordiv__', '__rlshift__', '__rmod__', '__rmul__', '__ror__', '__round__', '__rpow__', '__rrshift__', '__rshift__', '__rsub__', '__rtruediv__', '__rxor__', '__setattr__', '__sizeof__', '__str__', '__sub__', '__subclasshook__', '__truediv__', '__trunc__', '__xor__', 'bit_length', 'conjugate', 'denominator', 'from_bytes', 'imag', 'numerator', 'real', 'to_bytes']\n"
          ]
        }
      ]
    },
    {
      "cell_type": "code",
      "source": [
        "\n",
        "\n",
        "'''\n",
        "STDIN, STDOUT\n",
        "'''\n",
        "a = input (\"Enter value of a\") #scanf()\n",
        "print(a) #printf(\"a = %d\\n\", a);\n"
      ],
      "metadata": {
        "colab": {
          "base_uri": "https://localhost:8080/"
        },
        "id": "wUBEadJclR-I",
        "outputId": "899be25c-0058-4358-e176-26461f2728ed"
      },
      "execution_count": null,
      "outputs": [
        {
          "output_type": "stream",
          "name": "stdout",
          "text": [
            "Enter value of a100\n",
            "100\n"
          ]
        }
      ]
    },
    {
      "cell_type": "code",
      "source": [
        "name = input (\"Enter your name\") #scanf()\n",
        "print(\"Your name is \", name) #printf(\"a = %d\\n\", a);"
      ],
      "metadata": {
        "colab": {
          "base_uri": "https://localhost:8080/"
        },
        "id": "iaTYibI7lSNA",
        "outputId": "7a318ed6-3dbc-4b78-840b-62b73946712e"
      },
      "execution_count": null,
      "outputs": [
        {
          "output_type": "stream",
          "name": "stdout",
          "text": [
            "Enter your namekamal kumar\n",
            "Your name is  kamal kumar\n"
          ]
        }
      ]
    },
    {
      "cell_type": "code",
      "source": [
        "'''\n",
        "If, else, elif\n",
        "'''\n",
        "\n",
        "# 0 -200000 -notax   if\n",
        "# 200001 - 500000 - 30%\n",
        "# > 500001 - 40%\n",
        "\n",
        "sal = input(\"Enter your salary \")\n",
        "sal = int(sal)\n",
        "if sal <= 200000:\n",
        "  print(\"No tax\")\n",
        "  print(\"Haapy.. :)\")\n",
        "elif 200001 <= sal <= 500000:\n",
        "  tax = sal*0.3\n",
        "  print(\"tax to be paid = \", tax)\n",
        "else:\n",
        "  tax = sal*0.4\n",
        "  print(\"tax to be paid = \", tax)\n",
        "  \n",
        "print(\"End....of the program\")\n",
        "\n",
        "\n",
        "\n"
      ],
      "metadata": {
        "colab": {
          "base_uri": "https://localhost:8080/"
        },
        "id": "l4C2xMtBlSe0",
        "outputId": "4e598146-ae80-4776-91fb-9c759171c846"
      },
      "execution_count": null,
      "outputs": [
        {
          "output_type": "stream",
          "name": "stdout",
          "text": [
            "Enter your salary 600000\n",
            "tax to be paid =  240000.0\n",
            "End....of the program\n"
          ]
        }
      ]
    },
    {
      "cell_type": "code",
      "source": [
        "\n",
        "#for i in range(0,10):#for (int i=0; i<100; i++) -- range()\n",
        "for i in [1,2,3,6,9,\"End\"]:# -- list\n",
        "  print(i)\n",
        "\n",
        "for i in {1:\"One\", 2:\"two\"}:# -- dictionary\n",
        "  print(i)\n"
      ],
      "metadata": {
        "colab": {
          "base_uri": "https://localhost:8080/"
        },
        "id": "7oowojyOrXT8",
        "outputId": "0077f9d2-eeb7-4030-d7fc-b047ac57020d"
      },
      "execution_count": null,
      "outputs": [
        {
          "output_type": "stream",
          "name": "stdout",
          "text": [
            "1\n",
            "2\n",
            "3\n",
            "6\n",
            "9\n",
            "End\n",
            "1\n",
            "2\n"
          ]
        }
      ]
    },
    {
      "cell_type": "code",
      "source": [
        "for i in {2,3,4}:# -- set\n",
        "  print(i)\n",
        "\n",
        "for i in (2,3,4):# -- touple\n",
        "  print(i)"
      ],
      "metadata": {
        "colab": {
          "base_uri": "https://localhost:8080/"
        },
        "id": "UAzFTEIduq53",
        "outputId": "5483ff7b-fd85-4952-cba0-effcb4ddc7df"
      },
      "execution_count": null,
      "outputs": [
        {
          "output_type": "stream",
          "name": "stdout",
          "text": [
            "2\n",
            "3\n",
            "4\n",
            "2\n",
            "3\n",
            "4\n"
          ]
        }
      ]
    },
    {
      "cell_type": "code",
      "source": [
        "\n",
        "for i in range(0,100):\n",
        "  if (i%2 != 0):\n",
        "    print(i)\n"
      ],
      "metadata": {
        "colab": {
          "base_uri": "https://localhost:8080/"
        },
        "id": "GfxbFE22vE7r",
        "outputId": "3a11e363-d81a-4a82-e451-f2a07769b1ff"
      },
      "execution_count": null,
      "outputs": [
        {
          "output_type": "stream",
          "name": "stdout",
          "text": [
            "1\n",
            "3\n",
            "5\n",
            "7\n",
            "9\n",
            "11\n",
            "13\n",
            "15\n",
            "17\n",
            "19\n",
            "21\n",
            "23\n",
            "25\n",
            "27\n",
            "29\n",
            "31\n",
            "33\n",
            "35\n",
            "37\n",
            "39\n",
            "41\n",
            "43\n",
            "45\n",
            "47\n",
            "49\n",
            "51\n",
            "53\n",
            "55\n",
            "57\n",
            "59\n",
            "61\n",
            "63\n",
            "65\n",
            "67\n",
            "69\n",
            "71\n",
            "73\n",
            "75\n",
            "77\n",
            "79\n",
            "81\n",
            "83\n",
            "85\n",
            "87\n",
            "89\n",
            "91\n",
            "93\n",
            "95\n",
            "97\n",
            "99\n"
          ]
        }
      ]
    },
    {
      "cell_type": "code",
      "source": [
        "\n",
        "\n",
        "'''\n",
        "List: [] Data structure\n",
        "'''\n",
        "list1 = [\"kamal\", \"satish\", \"anil\", 100, 1.1, [1,2,3,4,]]\n",
        "print(dir(list1))\n",
        "list1.insert(0, \"sunil\")\n",
        "list1.insert(1, \"kishore\")\n",
        "print(list1)\n",
        "\n",
        "#Going to freeze\n",
        "t1 = tuple(list1)\n",
        "list1.clear()\n",
        "del list1\n",
        "print(t1)"
      ],
      "metadata": {
        "colab": {
          "base_uri": "https://localhost:8080/"
        },
        "id": "U8mEBMbyvdWU",
        "outputId": "3178e7d8-2a7b-4a15-b3bb-b91ce5089f6c"
      },
      "execution_count": null,
      "outputs": [
        {
          "output_type": "stream",
          "name": "stdout",
          "text": [
            "['__add__', '__class__', '__contains__', '__delattr__', '__delitem__', '__dir__', '__doc__', '__eq__', '__format__', '__ge__', '__getattribute__', '__getitem__', '__gt__', '__hash__', '__iadd__', '__imul__', '__init__', '__init_subclass__', '__iter__', '__le__', '__len__', '__lt__', '__mul__', '__ne__', '__new__', '__reduce__', '__reduce_ex__', '__repr__', '__reversed__', '__rmul__', '__setattr__', '__setitem__', '__sizeof__', '__str__', '__subclasshook__', 'append', 'clear', 'copy', 'count', 'extend', 'index', 'insert', 'pop', 'remove', 'reverse', 'sort']\n",
            "['sunil', 'kishore', 'kamal', 'satish', 'anil', 100, 1.1, [1, 2, 3, 4]]\n",
            "('sunil', 'kishore', 'kamal', 'satish', 'anil', 100, 1.1, [1, 2, 3, 4])\n"
          ]
        }
      ]
    },
    {
      "cell_type": "code",
      "source": [
        "'''\n",
        "tuple: () Data structure: Read only\n",
        "'''\n",
        "toupl1 = (\"kamal\", \"satish\", \"anil\", 100, 1.1, [1,2,3,4,])\n",
        "print(dir(toupl1))\n",
        "print(toupl1)\n",
        "\n"
      ],
      "metadata": {
        "id": "7OGKHwvpxW84",
        "colab": {
          "base_uri": "https://localhost:8080/"
        },
        "outputId": "b10a44b1-10f2-407f-daad-e7c7b8656ad2"
      },
      "execution_count": null,
      "outputs": [
        {
          "output_type": "stream",
          "name": "stdout",
          "text": [
            "['__add__', '__class__', '__contains__', '__delattr__', '__dir__', '__doc__', '__eq__', '__format__', '__ge__', '__getattribute__', '__getitem__', '__getnewargs__', '__gt__', '__hash__', '__init__', '__init_subclass__', '__iter__', '__le__', '__len__', '__lt__', '__mul__', '__ne__', '__new__', '__reduce__', '__reduce_ex__', '__repr__', '__rmul__', '__setattr__', '__sizeof__', '__str__', '__subclasshook__', 'count', 'index']\n",
            "('kamal', 'satish', 'anil', 100, 1.1, [1, 2, 3, 4])\n"
          ]
        }
      ]
    },
    {
      "cell_type": "code",
      "source": [
        "'''\n",
        "set:  {}\n",
        "'''\n",
        "\n",
        "batsmen = {\"kohli\", \"rohith\", \"sachin\", \"dravid\", \"kapil\", \"pathan\", 1, 200}\n",
        "bowler = {\"kapil\",\"pathan\", \"kumble\", \"sachin\"}\n",
        "batsmen.add(\"jadeja\")\n",
        "batsmen.remove(\"jadeja\")\n",
        "\n",
        "allrounder = batsmen & bowler #interseption\n",
        "print(allrounder)\n",
        "\n",
        "team = batsmen | bowler #union\n",
        "print(team)\n",
        "\n",
        "onlybatsmen = batsmen - bowler\n",
        "print(onlybatsmen)\n",
        "\n",
        "onlybowler = bowler - batsmen\n",
        "print(onlybowler)\n",
        "\n",
        "print(dir(batsmen))"
      ],
      "metadata": {
        "colab": {
          "base_uri": "https://localhost:8080/"
        },
        "id": "uzygvDWy1yIs",
        "outputId": "123b3485-ddfd-44ae-bf55-50bdb69a01ee"
      },
      "execution_count": null,
      "outputs": [
        {
          "output_type": "stream",
          "name": "stdout",
          "text": [
            "{'kapil', 'sachin', 'pathan'}\n",
            "{'kapil', 1, 'kumble', 200, 'dravid', 'sachin', 'rohith', 'kohli', 'pathan'}\n",
            "{1, 200, 'dravid', 'rohith', 'kohli'}\n",
            "{'kumble'}\n",
            "['__and__', '__class__', '__contains__', '__delattr__', '__dir__', '__doc__', '__eq__', '__format__', '__ge__', '__getattribute__', '__gt__', '__hash__', '__iand__', '__init__', '__init_subclass__', '__ior__', '__isub__', '__iter__', '__ixor__', '__le__', '__len__', '__lt__', '__ne__', '__new__', '__or__', '__rand__', '__reduce__', '__reduce_ex__', '__repr__', '__ror__', '__rsub__', '__rxor__', '__setattr__', '__sizeof__', '__str__', '__sub__', '__subclasshook__', '__xor__', 'add', 'clear', 'copy', 'difference', 'difference_update', 'discard', 'intersection', 'intersection_update', 'isdisjoint', 'issubset', 'issuperset', 'pop', 'remove', 'symmetric_difference', 'symmetric_difference_update', 'union', 'update']\n"
          ]
        }
      ]
    },
    {
      "cell_type": "code",
      "source": [
        "'''\n",
        "set:  {}\n",
        "'''\n",
        "n1 = {2,3,4,5,6,7,8,9}\n",
        "n2 = {4,5,10}\n",
        "\n",
        "print(\"Is n2 sub set of n1 =\", n2.issubset(n1))\n",
        "print(n1-n2)\n"
      ],
      "metadata": {
        "colab": {
          "base_uri": "https://localhost:8080/"
        },
        "id": "aIbziTJx3Urv",
        "outputId": "e8e94a85-6f56-43a2-979f-27dd89bea185"
      },
      "execution_count": null,
      "outputs": [
        {
          "output_type": "stream",
          "name": "stdout",
          "text": [
            "Is n2 sub set of n1 = False\n",
            "{2, 3, 6, 7, 8, 9}\n"
          ]
        }
      ]
    },
    {
      "cell_type": "code",
      "source": [
        "'''\n",
        "dictionary: {key:value}\n",
        "'''\n",
        "\n",
        "\n",
        "sachin = {\"Name\":'sachin', \"rank\":10, \"address\":\"mumbai\", \"mesal\":[\"bharatha rathna\", \"arjun\"]}\n",
        "satish = {\"Name\":'satish', \"rank\":1, \"address\":\"hyd\", \"mesal\":[\"bharatha rathna\", \"arjun\"]}\n",
        "\n",
        "students = [sachin, satish]\n",
        "\n",
        "for student in students:\n",
        "  print(student[\"Name\"])"
      ],
      "metadata": {
        "colab": {
          "base_uri": "https://localhost:8080/"
        },
        "id": "6PhXo5lU5Yeo",
        "outputId": "61b3d1ea-ac26-48ed-bb7b-ff1cc53e80b1"
      },
      "execution_count": null,
      "outputs": [
        {
          "output_type": "stream",
          "name": "stdout",
          "text": [
            "sachin\n",
            "satish\n"
          ]
        }
      ]
    },
    {
      "cell_type": "code",
      "source": [
        "batsmen = {\"kohli\", \"rohith\", \"sachin\", \"dravid\", \"kapil\", \"pathan\"}\n",
        "list1 = list(batsmen)\n",
        "list1.sort()\n",
        "print(list1)\n",
        "\n",
        "print(list1[0])\n",
        "\n"
      ],
      "metadata": {
        "colab": {
          "base_uri": "https://localhost:8080/"
        },
        "id": "aVinrNUm6sa4",
        "outputId": "e3db2bcd-25a6-43d9-deb2-f9a90c7c594b"
      },
      "execution_count": null,
      "outputs": [
        {
          "output_type": "stream",
          "name": "stdout",
          "text": [
            "['dravid', 'kapil', 'kohli', 'pathan', 'rohith', 'sachin']\n",
            "dravid\n"
          ]
        }
      ]
    },
    {
      "cell_type": "code",
      "source": [
        "data = '''\n",
        "kamal\n",
        "+91-97000000000\n",
        "kamal@juniper.net\n",
        "24-05-1985\n",
        "220000.00\n",
        "$%^&\n",
        "\n",
        "satish\n",
        "+91-970011100000\n",
        "kamal123@juniper.net\n",
        "24-05-1985\n",
        "220000.00\n",
        "$%^&\n",
        "'''\n",
        "\n",
        "print(data)\n",
        "\n",
        "import re #importing regular exp module\n",
        "\n",
        "names = re.findall(r'\\b[A-Z a-z]+(?!\\.)\\b', data)\n",
        "print(names)\n",
        "\n",
        "mails = re.findall(r'[a-zA-Z0-9]+@[a-zA-Z]+\\.[a-zA-Z]+', data)\n",
        "print(mails)\n",
        "\n",
        "phonenums = re.findall(r'\\+[0-9]{2}-[0-9]{10}', data)\n",
        "print(phonenums)"
      ],
      "metadata": {
        "colab": {
          "base_uri": "https://localhost:8080/"
        },
        "id": "74Dto3Ec7hqL",
        "outputId": "4aeca9ff-919a-4ea7-93a8-7f2816dda01d"
      },
      "execution_count": null,
      "outputs": [
        {
          "output_type": "stream",
          "name": "stdout",
          "text": [
            "\n",
            "kamal\n",
            "+91-97000000000\n",
            "kamal@juniper.net\n",
            "24-05-1985\n",
            "220000.00\n",
            "$%^&\n",
            "\n",
            "satish\n",
            "+91-970011100000\n",
            "kamal123@juniper.net\n",
            "24-05-1985\n",
            "220000.00\n",
            "$%^&\n",
            "\n",
            "['kamal', 'kamal', 'net', 'satish', 'net']\n",
            "['kamal@juniper.net', 'kamal123@juniper.net']\n",
            "['+91-9700000000', '+91-9700111000']\n"
          ]
        }
      ]
    },
    {
      "cell_type": "code",
      "source": [
        ""
      ],
      "metadata": {
        "id": "IUS6OSER83W4"
      },
      "execution_count": null,
      "outputs": []
    }
  ]
}