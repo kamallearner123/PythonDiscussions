{
 "cells": [
  {
   "cell_type": "code",
   "execution_count": 1,
   "id": "9cf3057d",
   "metadata": {},
   "outputs": [],
   "source": [
    "'''\n",
    "Level 1: Gathering input\n",
    "    -  Opening files .txt: open, close\n",
    "    -  How to traverse directories: os module\n",
    "    -  Regular expresstion: re module\n",
    "\n",
    "Level 2: Processing data\n",
    "    -  Data structures (list, dictionaries, sets, tuples, strings)\n",
    "    -  logical (for/if/etc...)\n",
    "\n",
    "Level 3: Present data (xls, images)\n",
    "    -  Creating/editnig... xls sheet: pandas mpdule\n",
    "    -  Presenting data in images : matplotlib module\n",
    "\n",
    "'''\n"
   ]
  },
  {
   "cell_type": "code",
   "execution_count": 3,
   "id": "1925492a",
   "metadata": {},
   "outputs": [],
   "source": [
    "import pandas as pd\n",
    "writer = pd.ExcelWriter('demo.xlsx', engine='xlsxwriter')\n",
    "writer.save()\n"
   ]
  },
  {
   "cell_type": "code",
   "execution_count": 43,
   "id": "572b0417",
   "metadata": {},
   "outputs": [
    {
     "name": "stdout",
     "output_type": "stream",
     "text": [
      "['top_data.txt']\n",
      "['31.2', '31.2', '18.8', '12.5', '6.2', '6.2', '6.2', '6.2', '6.2', '6.2', '6.2', '0.0', '0.0', '0.0', '0.0', '0.0', '0.0', '0.0', '0.0', '0.0', '0.0', '0.0', '0.0', '0.0', '0.0', '0.0']\n",
      "['3.6', '6.7', '2.1', '3.4', '0.0', '2.5', '0.1', '4.3', '0.3', '1.7', '0.1', '0.1', '0.0', '0.0', '0.0', '0.0', '0.0', '0.0', '0.0', '0.0', '0.0', '0.0', '0.0', '0.0', '0.0', '0.0']\n"
     ]
    }
   ],
   "source": [
    "import os #directory tracersing,//////\n",
    "import re #regex module\n",
    "\n",
    "INPUT_DIR=\"./data/\"\n",
    "INPUT_FILE_FORMAT=\".txt\"\n",
    "\n",
    "#  1) get .txt files from directory\n",
    "files = os.listdir(INPUT_DIR)\n",
    "txtfiles = []\n",
    "for file in files:#Collecting each file name\n",
    "    if file.endswith(\".txt\"):\n",
    "        txtfiles.append(file)\n",
    "print(txtfiles)\n",
    "\n",
    "# 2) Read each txt, extract pid, cpu, mem\n",
    "p = re.compile(r\"^[ 0-9]+\", re.M)\n",
    "\n",
    "\n",
    "cpu_field=\"cpu\"\n",
    "mem_field=\"mem\"\n",
    "final_dict = dict()\n",
    "\n",
    "for file in txtfiles:\n",
    "    fd = open(INPUT_DIR+\"/\"+file)#Opening a file in READONLY\n",
    "    data = fd.read() #Reading all the data from file\n",
    "    cpu_mem = re.findall(r\"([0-9]+\\.[0-9]+) *([0-9]+\\.[0-9]+)\", data)\n",
    "    cpu = list(map(lambda x: x[0],cpu_mem))\n",
    "    print(cpu)\n",
    "    mem = list(map(lambda x: x[1],cpu_mem))\n",
    "    print(mem)\n",
    "    \n",
    "    #Adding data to dictionary\n",
    "    final_dict[cpu_field+\"_\"+file] = cpu\n",
    "    final_dict[mem_field+\"_\"+file] = mem\n",
    "    \n",
    "    \n",
    "# 3) Writing the data to excel\n",
    "import pandas as pd\n",
    "writer = pd.ExcelWriter('demo.xlsx', engine='xlsxwriter') #Open xls handler\n",
    "\n",
    "#Creating data frame : table\n",
    "df1 = pd.DataFrame(data={\"cpu\":cpu, \"mem\":mem}) # {\"column name\": list1, \"clumnname2\": list2}\n",
    "\n",
    "df1.to_excel(writer)\n",
    "df1.to_csv(\"demo.csv\")\n",
    "\n",
    "writer.save()"
   ]
  },
  {
   "cell_type": "code",
   "execution_count": null,
   "id": "f810c1ff",
   "metadata": {},
   "outputs": [],
   "source": []
  }
 ],
 "metadata": {
  "kernelspec": {
   "display_name": "Python 3",
   "language": "python",
   "name": "python3"
  },
  "language_info": {
   "codemirror_mode": {
    "name": "ipython",
    "version": 3
   },
   "file_extension": ".py",
   "mimetype": "text/x-python",
   "name": "python",
   "nbconvert_exporter": "python",
   "pygments_lexer": "ipython3",
   "version": "3.8.10"
  }
 },
 "nbformat": 4,
 "nbformat_minor": 5
}
